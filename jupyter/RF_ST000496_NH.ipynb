{
 "cells": [
  {
   "cell_type": "markdown",
   "metadata": {
    "toc-hr-collapsed": false
   },
   "source": [
    "## RF"
   ]
  },
  {
   "cell_type": "markdown",
   "metadata": {},
   "source": [
    "----"
   ]
  },
  {
   "cell_type": "markdown",
   "metadata": {
    "toc-hr-collapsed": true
   },
   "source": [
    "### 1. Import Modules"
   ]
  },
  {
   "cell_type": "code",
   "execution_count": null,
   "metadata": {},
   "outputs": [],
   "source": [
    "import numpy as np\n",
    "import pandas as pd\n",
    "import cimcb as cb\n",
    "from sklearn.model_selection import train_test_split\n",
    "\n",
    "print('All packages successfully loaded')\n",
    "\n",
    "% load_ext autoreload\n",
    "% autoreload 2"
   ]
  },
  {
   "cell_type": "markdown",
   "metadata": {},
   "source": [
    "### 2. Load data and peak sheet"
   ]
  },
  {
   "cell_type": "code",
   "execution_count": null,
   "metadata": {},
   "outputs": [],
   "source": [
    "home = 'data/' \n",
    "file = 'ST000496.xlsx' \n",
    "\n",
    "DataTable,PeakTable = cb.utils.load_dataXL(home + file, DataSheet='Data', PeakSheet='Peak') "
   ]
  },
  {
   "cell_type": "markdown",
   "metadata": {},
   "source": [
    "### 3. Extract X & Y"
   ]
  },
  {
   "cell_type": "code",
   "execution_count": null,
   "metadata": {},
   "outputs": [],
   "source": [
    "peaklist = PeakTable['Name']\n",
    "DataTable2 = DataTable[(DataTable['Class']==0) | (DataTable['Class']==1)]\n",
    "Y = DataTable2['Class'].values \n",
    "\n",
    "# Extract and scale the metabolite data from the DataTable\n",
    "peaklist = PeakTable['Name']                           \n",
    "XT = DataTable2[peaklist]                                    \n",
    "XTlog = np.log(XT)                                          \n",
    "XTscale = cb.utils.scale(XTlog, method='auto')              \n",
    "XTknn = cb.utils.knnimpute(XTscale, k=3)     "
   ]
  },
  {
   "cell_type": "markdown",
   "metadata": {},
   "source": [
    "### 4. Hyperparameters optimisation"
   ]
  },
  {
   "cell_type": "code",
   "execution_count": null,
   "metadata": {
    "scrolled": false
   },
   "outputs": [],
   "source": [
    "# param_dict\n",
    "depth = list(range(1,5)) # The maximum depth of the tree. (default None)\n",
    "feat = list(range(1,11)) # The number of features to consider when looking for the best split. (default sqrt(num_features))\n",
    "min_sam_split = list(range(2,11)) # The minimum number of samples required to split an internal node. (default 2)\n",
    "min_sam_leaf = list(range(1,11)) # The minimum number of samples required to be at a leaf node. (default 1)\n",
    "est = [25, 50, 75, 100, 125, 150] # The number of trees in the forest. (default 100)\n",
    "\n",
    "# Alternatives\n",
    "est_range = list(range(1, 500)) # The number of trees in the forest. (default 100)\n",
    "feat_asfraction = [0.1, 0.2, 0.3, 0.4, 0.5, 0.6, 0.7, 0.8, 0.9, len(XTknn.T)] # The number of features to consider when looking for the best split. (default sqrt(num_features))\n",
    "min_sam_leaf_asfraction = [0.0001, 0.001, 0.01, 0.1, 0.2, 0.3, 0.4, 0.5] # The minimum number of samples required to be at a leaf node.  (default 1)\n",
    "\n",
    "# Set param_dict\n",
    "param_dict = dict(max_depth=depth, max_features='sqrt', criterion='gini', min_samples_split=2, min_samples_leaf=1, max_leaf_nodes=None, n_estimators=est)\n",
    "\n",
    "# Initalise\n",
    "cv = cb.cross_val.kfold(model=cb.model.RF,                      \n",
    "                                X=XTknn,                                 \n",
    "                                Y=Y,                               \n",
    "                                param_dict=param_dict,                   \n",
    "                                folds=5,\n",
    "                                n_mc=1)                                \n",
    "\n",
    "# Run and plot\n",
    "cv.run()  \n",
    "cv.plot(metric='auc', ci=95, scale=1.3, color_beta=5)"
   ]
  },
  {
   "cell_type": "code",
   "execution_count": null,
   "metadata": {},
   "outputs": [],
   "source": [
    "# param_dict\n",
    "depth = list(range(1,5)) # The maximum depth of the tree. (default None)\n",
    "feat = list(range(1,11)) # The number of features to consider when looking for the best split. (default sqrt(num_features))\n",
    "min_sam_split = list(range(2,11)) # The minimum number of samples required to split an internal node. (default 2)\n",
    "min_sam_leaf = list(range(1,11)) # The minimum number of samples required to be at a leaf node. (default 1)\n",
    "est = [25, 50, 75, 100, 125, 150] # The number of trees in the forest. (default 100)\n",
    "\n",
    "# Alternatives\n",
    "est_range = list(range(1, 500)) # The number of trees in the forest. (default 100)\n",
    "feat_asfraction = [0.1, 0.2, 0.3, 0.4, 0.5, 0.6, 0.7, 0.8, 0.9, len(XTknn.T)] # The number of features to consider when looking for the best split. (default sqrt(num_features))\n",
    "min_sam_leaf_asfraction = [0.0001, 0.001, 0.01, 0.1, 0.2, 0.3, 0.4, 0.5] # The minimum number of samples required to be at a leaf node.  (default 1)\n",
    "\n",
    "# Set param_dict\n",
    "param_dict = dict(max_depth=depth, max_features=feat, criterion='gini', min_samples_split=2, min_samples_leaf=1, max_leaf_nodes=None, n_estimators=200)\n",
    "\n",
    "# Initalise\n",
    "cv = cb.cross_val.kfold(model=cb.model.RF,                      \n",
    "                                X=XTknn,                                 \n",
    "                                Y=Y,                               \n",
    "                                param_dict=param_dict,                   \n",
    "                                folds=5,\n",
    "                                n_mc=1)                                \n",
    "\n",
    "# Run and plot\n",
    "cv.run()  \n",
    "cv.plot(metric='auc', ci=95, scale=1.3, color_beta=5)"
   ]
  },
  {
   "cell_type": "code",
   "execution_count": null,
   "metadata": {},
   "outputs": [],
   "source": [
    "# param_dict\n",
    "depth = list(range(1,5)) # The maximum depth of the tree. (default None)\n",
    "feat = list(range(1,11)) # The number of features to consider when looking for the best split. (default sqrt(num_features))\n",
    "min_sam_split = list(range(2,11)) # The minimum number of samples required to split an internal node. (default 2)\n",
    "min_sam_leaf = list(range(1,11)) # The minimum number of samples required to be at a leaf node. (default 1)\n",
    "est = [25, 50, 75, 100, 125, 150] # The number of trees in the forest. (default 100)\n",
    "\n",
    "# Alternatives\n",
    "est_range = list(range(1, 500)) # The number of trees in the forest. (default 100)\n",
    "feat_asfraction = [0.1, 0.2, 0.3, 0.4, 0.5, 0.6, 0.7, 0.8, 0.9, len(XTknn.T)] # The number of features to consider when looking for the best split. (default sqrt(num_features))\n",
    "min_sam_leaf_asfraction = [0.0001, 0.001, 0.01, 0.1, 0.2, 0.3, 0.4, 0.5] # The minimum number of samples required to be at a leaf node.  (default 1)\n",
    "\n",
    "# Set param_dict\n",
    "param_dict = dict(max_depth=None, max_features=feat, criterion='gini', min_samples_split=2, min_samples_leaf=1, max_leaf_nodes=None, n_estimators=est)\n",
    "\n",
    "# Initalise\n",
    "cv = cb.cross_val.kfold(model=cb.model.RF,                      \n",
    "                                X=XTknn,                                 \n",
    "                                Y=Y,                               \n",
    "                                param_dict=param_dict,                   \n",
    "                                folds=5,\n",
    "                                n_mc=1)                                \n",
    "\n",
    "# Run and plot\n",
    "cv.run()  \n",
    "cv.plot(metric='auc', ci=95, scale=1.3, color_beta=5)"
   ]
  },
  {
   "cell_type": "markdown",
   "metadata": {},
   "source": [
    "### 6. Get Model and Evaluate"
   ]
  },
  {
   "cell_type": "code",
   "execution_count": null,
   "metadata": {
    "scrolled": false
   },
   "outputs": [],
   "source": [
    "# 6. Train, test and evaluate model\n",
    "\n",
    "# Train model\n",
    "model = cb.model.RF(max_depth=1, max_features=9, criterion='gini', min_samples_split=2, min_samples_leaf=1, max_leaf_nodes=None, n_estimators=10)\n",
    "model.train(XTknn, Y)\n",
    "model.test(XTknn)\n",
    "\n",
    "# Evaluate Ypred against Ytest\n",
    "model.evaluate(cutoffscore=0.5, plot_median=False) "
   ]
  },
  {
   "cell_type": "code",
   "execution_count": null,
   "metadata": {},
   "outputs": [],
   "source": [
    "# Bootstrap evaluate\n",
    "\n",
    "model.booteval(XTknn, Y, errorbar=False, bootnum=100) #errorbar=True, cutoffscore=0.5, specificity=0.8"
   ]
  },
  {
   "cell_type": "markdown",
   "metadata": {},
   "source": [
    "### 7. Save table"
   ]
  },
  {
   "cell_type": "code",
   "execution_count": null,
   "metadata": {},
   "outputs": [],
   "source": [
    "home = 'tables/'\n",
    "file = 'RF_ST000496_NH.xlsx'\n",
    "\n",
    "model.save_table(home + file)"
   ]
  },
  {
   "cell_type": "code",
   "execution_count": null,
   "metadata": {},
   "outputs": [],
   "source": [
    "import numpy as np\n",
    "from sklearn import metrics\n",
    "\n",
    "# Check booteval auc directly from plot (tpr, fpr)\n",
    "\n",
    "# get fpr, tpr\n",
    "fpr_ib = model.fpr_ib\n",
    "fpr_oob = model.fpr_oob\n",
    "tpr_ib = model.tpr_ib\n",
    "tpr_oob = model.tpr_oob\n",
    "\n",
    "# get auc using sklearn\n",
    "auc_ib_scipy = metrics.auc(fpr_ib, tpr_ib)\n",
    "auc_oob_scipy = metrics.auc(fpr_oob, tpr_oob)\n",
    "\n",
    "# get auc using numpy (trapezoidal rule)\n",
    "auc_ib_np = np.trapz(tpr_ib, fpr_ib)\n",
    "auc_oob_np = np.trapz(tpr_oob, fpr_oob)\n",
    "\n",
    "# print\n",
    "print(\"auc_ib_scipy = {}\".format(auc_ib_scipy))\n",
    "print(\"auc_ib_numpy = {}\".format(auc_ib_np))\n",
    "print(\"auc_oob_scipy = {}\".format(auc_oob_scipy))\n",
    "print(\"auc_oob_numpy = {}\".format(auc_oob_np))"
   ]
  },
  {
   "cell_type": "code",
   "execution_count": null,
   "metadata": {},
   "outputs": [],
   "source": [
    "import matplotlib.pyplot as plt\n",
    "% matplotlib inline\n",
    "\n",
    "# Plot booteval tpr, fpr in matplotlib\n",
    "\n",
    "plt.figure(num=None, figsize=(8, 8), dpi=80, facecolor='w', edgecolor='k')\n",
    "\n",
    "plt.plot(fpr_ib, fpr_ib)\n",
    "plt.plot(fpr_ib, tpr_ib)\n",
    "plt.plot(fpr_oob, tpr_oob)\n",
    "\n",
    "plt.legend(['Equal distribution line', 'In Bag', 'Out of Bag'], loc='lower right')\n",
    "\n",
    "plt.show()"
   ]
  }
 ],
 "metadata": {
  "kernelspec": {
   "display_name": "Python 3",
   "language": "python",
   "name": "python3"
  },
  "language_info": {
   "codemirror_mode": {
    "name": "ipython",
    "version": 3
   },
   "file_extension": ".py",
   "mimetype": "text/x-python",
   "name": "python",
   "nbconvert_exporter": "python",
   "pygments_lexer": "ipython3",
   "version": "3.6.8"
  },
  "toc": {
   "base_numbering": 1,
   "nav_menu": {},
   "number_sections": false,
   "sideBar": false,
   "skip_h1_title": false,
   "title_cell": "Table of Contents",
   "title_sidebar": "Contents",
   "toc_cell": false,
   "toc_position": {},
   "toc_section_display": false,
   "toc_window_display": false
  },
  "toc-autonumbering": false,
  "toc-showmarkdowntxt": false
 },
 "nbformat": 4,
 "nbformat_minor": 2
}
