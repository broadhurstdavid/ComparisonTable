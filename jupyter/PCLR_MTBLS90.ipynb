{
 "cells": [
  {
   "cell_type": "markdown",
   "metadata": {
    "toc-hr-collapsed": false
   },
   "source": [
    "## PCLR"
   ]
  },
  {
   "cell_type": "markdown",
   "metadata": {},
   "source": [
    "----"
   ]
  },
  {
   "cell_type": "markdown",
   "metadata": {
    "toc-hr-collapsed": true
   },
   "source": [
    "### 1. Import Modules"
   ]
  },
  {
   "cell_type": "code",
   "execution_count": 1,
   "metadata": {},
   "outputs": [
    {
     "name": "stderr",
     "output_type": "stream",
     "text": [
      "Using TensorFlow backend.\n"
     ]
    },
    {
     "name": "stdout",
     "output_type": "stream",
     "text": [
      "All packages successfully loaded\n"
     ]
    }
   ],
   "source": [
    "import numpy as np\n",
    "import pandas as pd\n",
    "import cimcb as cb\n",
    "from sklearn.model_selection import train_test_split\n",
    "\n",
    "print('All packages successfully loaded')"
   ]
  },
  {
   "cell_type": "markdown",
   "metadata": {},
   "source": [
    "### 2. Load data and peak sheet"
   ]
  },
  {
   "cell_type": "code",
   "execution_count": 2,
   "metadata": {},
   "outputs": [
    {
     "name": "stdout",
     "output_type": "stream",
     "text": [
      "Loadings PeakFile: Peak\n",
      "Loadings DataFile: Data\n",
      "Data Table & Peak Table is suitable.\n",
      "TOTAL SAMPLES: 968 TOTAL PEAKS: 189\n",
      "Done!\n"
     ]
    }
   ],
   "source": [
    "home = 'data/' \n",
    "file = 'MTBLS90.xlsx'  \n",
    "\n",
    "DataTable,PeakTable = cb.utils.load_dataXL(home + file, DataSheet='Data', PeakSheet='Peak') "
   ]
  },
  {
   "cell_type": "markdown",
   "metadata": {},
   "source": [
    "### 3. Extract X & Y"
   ]
  },
  {
   "cell_type": "code",
   "execution_count": 3,
   "metadata": {},
   "outputs": [],
   "source": [
    "peaklist = PeakTable['Name']\n",
    "DataTable2 = DataTable[(DataTable['Class']==0) | (DataTable['Class']==1)]\n",
    "Y = DataTable2['Class'].values "
   ]
  },
  {
   "cell_type": "markdown",
   "metadata": {},
   "source": [
    "### 4. Hyperparameters optimisation"
   ]
  },
  {
   "cell_type": "code",
   "execution_count": null,
   "metadata": {
    "scrolled": false
   },
   "outputs": [
    {
     "name": "stdout",
     "output_type": "stream",
     "text": [
      "Number of cores set to: 8\n",
      "Running ...\n"
     ]
    },
    {
     "name": "stderr",
     "output_type": "stream",
     "text": [
      "100%|██████████| 3000/3000 [01:49<00:00, 27.48it/s]\n"
     ]
    },
    {
     "name": "stdout",
     "output_type": "stream",
     "text": [
      "Time taken: 1.83 minutes with 8 cores\n"
     ]
    }
   ],
   "source": [
    "# Set seed\n",
    "seed = 13\n",
    "\n",
    "# Split DataTable2 and Y into train and test (with stratification\n",
    "DataTrain, DataTest, Ytrain, Ytest = train_test_split(DataTable2, Y, test_size=0.30, stratify=Y, random_state=seed)\n",
    "\n",
    "# Extract and scale the metabolite data from the DataTable\n",
    "peaklist = PeakTable['Name']                           \n",
    "XT = DataTrain[peaklist]                                    \n",
    "XTlog = np.log(XT)                                          \n",
    "XTscale = cb.utils.scale(XTlog, method='auto')              \n",
    "XTknn = cb.utils.knnimpute(XTscale, k=3)                                      \n",
    "                                         \n",
    "# param_dict\n",
    "#param_dict = {'n_components': [1,2,3,4,5,6]}                   \n",
    "#param_dict = {'n_components': [1,2,3,4,5,6,7,8,9,10,11,12]} \n",
    "param_dict = {'n_components': [1,2,3,4,5,6,7,8,9,10,11,12,13,14,15,16,17,18,19,20,21,22,23,24,25,26,27,28,29,30]} \n",
    "\n",
    "# Initalise\n",
    "cv = cb.cross_val.kfold(model=cb.model.PCLR,                      \n",
    "                                X=XTknn,                                 \n",
    "                                Y=Ytrain,                               \n",
    "                                param_dict=param_dict,                   \n",
    "                                folds=5,\n",
    "                                n_mc=100)                                \n",
    "\n",
    "# Run and plot\n",
    "cv.run()  \n",
    "cv.plot(metric='r2q2', ci=95)"
   ]
  },
  {
   "cell_type": "markdown",
   "metadata": {},
   "source": [
    "### 6. Get Model and Evaluate"
   ]
  },
  {
   "cell_type": "code",
   "execution_count": null,
   "metadata": {
    "scrolled": false
   },
   "outputs": [],
   "source": [
    "# 6. Train, test and evaluate model\n",
    "\n",
    "# Train model\n",
    "model = cb.model.PCLR(n_components=22)\n",
    "model.train(XTknn, Ytrain)\n",
    "\n",
    "# Get X, Y\n",
    "mu, sigma  = cb.utils.scale(XTlog, return_mu_sigma=True) \n",
    "peaklist = PeakTable.Name \n",
    "XV = DataTest[peaklist].values\n",
    "XVlog = np.log(XV)\n",
    "XVscale  = cb.utils.scale(XVlog, method='auto', mu=mu, sigma=sigma)\n",
    "XVknn = cb.utils.knnimpute(XVscale, k=3)\n",
    "YVpred = model.test(XVknn)\n",
    "\n",
    "# Evaluate Ypred against Ytest\n",
    "evals = [Ytest, YVpred] \n",
    "model.evaluate(evals, cutoffscore=0.5, plot_median=False) \n",
    "\n",
    "print(\"AUC Train: {}\".format(model.table['auc'][0][0]))\n",
    "print(\"AUC Test: {}\".format(model.table['auc'][1][0]))"
   ]
  },
  {
   "cell_type": "code",
   "execution_count": null,
   "metadata": {},
   "outputs": [],
   "source": [
    "# Get X\n",
    "X = DataTable2[peaklist]                                    \n",
    "Xlog = np.log(X)                                          \n",
    "Xscale = cb.utils.scale(Xlog, method='auto')              \n",
    "Xknn = cb.utils.knnimpute(Xscale, k=3)    \n",
    "\n",
    "# Bootstrap evaluate\n",
    "model.booteval(Xknn, Y, cutoffscore=0.5, bootnum=100) "
   ]
  },
  {
   "cell_type": "markdown",
   "metadata": {},
   "source": [
    "### 7. Save table"
   ]
  },
  {
   "cell_type": "code",
   "execution_count": null,
   "metadata": {},
   "outputs": [],
   "source": [
    "home = 'tables/'\n",
    "file = 'PCLR_MTBLS90.xlsx'\n",
    "\n",
    "model.save_table(home + file)"
   ]
  },
  {
   "cell_type": "code",
   "execution_count": null,
   "metadata": {},
   "outputs": [],
   "source": []
  },
  {
   "cell_type": "code",
   "execution_count": null,
   "metadata": {},
   "outputs": [],
   "source": []
  }
 ],
 "metadata": {
  "kernelspec": {
   "display_name": "Python 3",
   "language": "python",
   "name": "python3"
  },
  "language_info": {
   "codemirror_mode": {
    "name": "ipython",
    "version": 3
   },
   "file_extension": ".py",
   "mimetype": "text/x-python",
   "name": "python",
   "nbconvert_exporter": "python",
   "pygments_lexer": "ipython3",
   "version": "3.6.8"
  },
  "toc": {
   "base_numbering": 1,
   "nav_menu": {},
   "number_sections": false,
   "sideBar": false,
   "skip_h1_title": false,
   "title_cell": "Table of Contents",
   "title_sidebar": "Contents",
   "toc_cell": false,
   "toc_position": {},
   "toc_section_display": false,
   "toc_window_display": false
  },
  "toc-autonumbering": false,
  "toc-showmarkdowntxt": false
 },
 "nbformat": 4,
 "nbformat_minor": 2
}
